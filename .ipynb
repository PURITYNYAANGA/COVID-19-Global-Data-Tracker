# 📘 COVID-19 Global Data Tracker
# ============================
# 📦 1. Importing Dependencies
# ============================
import pandas as pd
import numpy as np
import matplotlib.pyplot as plt
import seaborn as sns
import plotly.express as px

# Optional: For nicer plots
sns.set_style("whitegrid")
plt.rcParams["figure.figsize"] = (12, 6)
## 📥 2. Load Dataset
# Load the OWID COVID-19 dataset
df = pd.read_csv("owid-covid-data.csv")

# Display the first 5 rows
df.head()
## 🔍 3. Dataset Overview
# Check columns
print(df.columns)

# Check for missing values
df.isnull().sum().sort_values(ascending=False)

# Dataset shape
df.shape
## 🧹 4. Data Cleaning
# Convert date to datetime
df['date'] = pd.to_datetime(df['date'])

# Filter countries of interest
countries = ['Kenya', 'India', 'United States']
df = df[df['location'].isin(countries)]

# Handle missing values for key metrics
df[['total_cases', 'total_deaths', 'new_cases', 'new_deaths', 'total_vaccinations']] = df[[
    'total_cases', 'total_deaths', 'new_cases', 'new_deaths', 'total_vaccinations']].fillna(method='ffill')
## 📊 5. Exploratory Data Analysis (EDA)
# Line plot: Total cases over time
for country in countries:
    country_data = df[df['location'] == country]
    plt.plot(country_data['date'], country_data['total_cases'], label=country)

plt.title('Total COVID-19 Cases Over Time')
plt.xlabel('Date')
plt.ylabel('Total Cases')
plt.legend()
plt.show()
# Daily new cases comparison
sns.lineplot(data=df, x='date', y='new_cases', hue='location')
plt.title("Daily New COVID-19 Cases")
plt.show()
# Death rate
df['death_rate'] = df['total_deaths'] / df['total_cases']
sns.lineplot(data=df, x='date', y='death_rate', hue='location')
plt.title("COVID-19 Death Rate Over Time")
plt.show()
## 💉 6. Vaccination Progress
# Cumulative vaccinations over time
sns.lineplot(data=df, x='date', y='total_vaccinations', hue='location')
plt.title("Cumulative Vaccinations Over Time")
plt.ylabel("Total Vaccinations")
plt.show()
## 🗺️ 7. (Optional) Choropleth Map
# Get the latest data for each country
latest = df[df['date'] == df['date'].max()]
fig = px.choropleth(latest, 
                    locations="iso_code",
                    color="total_cases",
                    hover_name="location",
                    color_continuous_scale="Reds",
                    title="Global COVID-19 Total Cases")
fig.show()
## 📌 8. Key Insights & Summary
### Key Findings:

- 🇮🇳 India experienced a sharp spike in daily cases in April–May 2021.
- 🇺🇸 The U.S. has the highest total cases among the selected countries.
- 🇰🇪 Kenya shows a steady vaccination rollout but lags behind in total doses administered.
- 📉 Death rate has gradually declined as vaccination coverage increases.
- 🌍 Choropleth map shows the highest concentration of total cases in North America and parts of Europe.

---

### Recommendations:
- Encourage vaccine equity and outreach in lower-income countries.
- Continue monitoring emerging variants and their impact on case spikes.
## ✅ 9. Save or Export
# Optional: Save cleaned dataset
df.to_csv("cleaned_covid_data.csv", index=False)

